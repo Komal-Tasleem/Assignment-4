{
  "nbformat": 4,
  "nbformat_minor": 0,
  "metadata": {
    "colab": {
      "provenance": [],
      "authorship_tag": "ABX9TyM9zRMNAdj4pKWb19OCRoS1",
      "include_colab_link": true
    },
    "kernelspec": {
      "name": "python3",
      "display_name": "Python 3"
    },
    "language_info": {
      "name": "python"
    }
  },
  "cells": [
    {
      "cell_type": "markdown",
      "metadata": {
        "id": "view-in-github",
        "colab_type": "text"
      },
      "source": [
        "<a href=\"https://colab.research.google.com/github/Komal-Tasleem/Assignment-4/blob/main/00_intro_python.ipynb\" target=\"_parent\"><img src=\"https://colab.research.google.com/assets/colab-badge.svg\" alt=\"Open In Colab\"/></a>"
      ]
    },
    {
      "cell_type": "code",
      "execution_count": null,
      "metadata": {
        "colab": {
          "base_uri": "https://localhost:8080/"
        },
        "id": "htlX_hwRlC6D",
        "outputId": "0bb7b0b7-92ca-4f34-d812-ccb428961ab9"
      },
      "outputs": [
        {
          "output_type": "stream",
          "name": "stdout",
          "text": [
            "01_add_two_numbers\n",
            "This application foradd two numbers\n",
            "Enter your first number5\n",
            "Enter your second number8\n",
            "the total sum of (5 and 8 is 13\n"
          ]
        }
      ],
      "source": [
        "print(\"01_add_two_numbers\")\n",
        "def add():\n",
        "  print(\"This application fo add two numbers\")\n",
        "  first_number = int(input(\"Enter your first number\"))\n",
        "  second_number = int(input(\"Enter your second number\"))\n",
        "  total = int(first_number + second_number)\n",
        "  print(f'the total sum of ({first_number} and { second_number} is {total}')\n",
        "if __name__==\"__main__\":\n",
        "  add()\n",
        "\n"
      ]
    },
    {
      "cell_type": "code",
      "source": [
        "print(\"02_agreement_bot\")\n",
        "\n",
        "def bot():\n",
        "  animal = str(input(\"what is your favourite animal?\"))\n",
        "  print(f'My favourite animal is also {animal}!')\n",
        "if __name__==\"__main__\":\n",
        "  bot()\n",
        "\n"
      ],
      "metadata": {
        "colab": {
          "base_uri": "https://localhost:8080/"
        },
        "id": "U-wUwzWTpJRl",
        "outputId": "a86b27b4-982d-4fd4-9393-0d4b59cabb52"
      },
      "execution_count": null,
      "outputs": [
        {
          "output_type": "stream",
          "name": "stdout",
          "text": [
            "02_agreement_bot\n",
            "what is your favourite animal?cat\n",
            "My favourite animal is also cat!\n"
          ]
        }
      ]
    },
    {
      "cell_type": "code",
      "source": [
        "print(\"03_fahrenheit_to_celsius\")\n",
        "\n",
        "def temp():\n",
        "  print(\"This code for converting fahrenheit to celsius\")\n",
        "  fahrenheit_degree = float(input(\"Enter your fahrenheit degree. \"))\n",
        "  celsius_degree = (fahrenheit_degree - 32) * 5.0/9.0\n",
        "  print(f'Tempereture {fahrenheit_degree}F = {celsius_degree}C')\n",
        "if __name__==\"__main__\":\n",
        "  temp()"
      ],
      "metadata": {
        "colab": {
          "base_uri": "https://localhost:8080/"
        },
        "id": "Wkyg5Oh-sVH9",
        "outputId": "e3a17b15-51fc-4844-9315-7cbe29f4deca"
      },
      "execution_count": null,
      "outputs": [
        {
          "output_type": "stream",
          "name": "stdout",
          "text": [
            "03_fahrenheit_to_celsius\n",
            "This code for converting fahrenheit to celsius\n",
            "Enter your fahrenheit degree. 54\n",
            "Tempereture 54.0F = 12.222222222222221C\n"
          ]
        }
      ]
    },
    {
      "cell_type": "code",
      "source": [
        "print(\"04_how_old_are_they\")\n",
        "\n",
        "def add_ages():\n",
        "  Anthen:int=21\n",
        "  Beth:int=Anthen + 6\n",
        "  Chen:int=Beth+20\n",
        "  Drew:int = Chen + Anthen\n",
        "  Ethan:int =Chen\n",
        "  print(\"Anthen is \" + str(Anthen))\n",
        "  print(\"Beth is \" + str(Beth))\n",
        "  print(\"Drew is \" + str(Drew))\n",
        "  print(\"Ethan is \" + str(Ethan))\n",
        "if __name__==\"__main__\":\n",
        "  add_ages()"
      ],
      "metadata": {
        "colab": {
          "base_uri": "https://localhost:8080/"
        },
        "id": "0gp0hpt_vd93",
        "outputId": "250d0be3-0572-4567-fd1d-306512b140e1"
      },
      "execution_count": null,
      "outputs": [
        {
          "output_type": "stream",
          "name": "stdout",
          "text": [
            "04_how_old_are_they\n",
            "Anthen is 21\n",
            "Beth is 27\n",
            "Drew is 68\n",
            "Ethan is 47\n"
          ]
        }
      ]
    },
    {
      "cell_type": "code",
      "source": [
        "print(\"05_triangle_perimeter\")\n",
        "def triangle():\n",
        "  print(\"This code is about perimeter of triangle sides\")\n",
        "\n",
        "  side1:float = float(input(\"Enter your first side no of triangle. \"))\n",
        "  side2:float = float(input(\"Enter your second side no of triangle. \"))\n",
        "  side3:float = float(input(\"Enter your third side no of triangle. \"))\n",
        "  total:float = float(side1 + side2 + side3)\n",
        "  print(f'The perimeter of the triangle is {total}')\n",
        "if __name__==\"__main__\":\n",
        "  triangle()"
      ],
      "metadata": {
        "colab": {
          "base_uri": "https://localhost:8080/"
        },
        "id": "3Wd93ocFyJTn",
        "outputId": "919b00ac-d20d-436c-9909-f2291a8127fb"
      },
      "execution_count": null,
      "outputs": [
        {
          "output_type": "stream",
          "name": "stdout",
          "text": [
            "05_triangle_perimeter\n",
            "This code is about perimeter of triangle sides\n",
            "Enter your first side no of triangle. 5\n",
            "Enter your second side no of triangle. 3\n",
            "Enter your third side no of triangle. 2\n",
            "The perimeter of the triangle is 10.0\n"
          ]
        }
      ]
    },
    {
      "cell_type": "code",
      "source": [
        "print(\"06_square_number\")\n",
        "def square():\n",
        "  print(\"This code is about square of given number\")\n",
        "  num1:int=int(input(\"Enter any number and i will give u a square value. \"))\n",
        "  print(f'The square of {num1} is {num1 **2}')\n",
        "if __name__==\"__main__\":\n",
        "  square()"
      ],
      "metadata": {
        "colab": {
          "base_uri": "https://localhost:8080/"
        },
        "id": "qSceGV762N29",
        "outputId": "01ab1ddc-27f1-4aeb-b0b2-6aa4fe6fbb7b"
      },
      "execution_count": null,
      "outputs": [
        {
          "output_type": "stream",
          "name": "stdout",
          "text": [
            "06_square_number\n",
            "This code is about square of given number\n",
            "Enter any number and i will give u a square value. 3\n",
            "The square of 3 is 9\n"
          ]
        }
      ]
    }
  ]
}